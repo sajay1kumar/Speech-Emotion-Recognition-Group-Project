{
 "cells": [
  {
   "cell_type": "code",
   "execution_count": null,
   "id": "353383e1",
   "metadata": {},
   "outputs": [],
   "source": [
    "# importing libraries\n",
    "import os\n",
    "import time\n",
    "import pandas as pd\n",
    "import numpy as np\n",
    "import soundfile as sf\n",
    "import librosa"
   ]
  },
  {
   "cell_type": "code",
   "execution_count": null,
   "id": "d8b0bd10",
   "metadata": {},
   "outputs": [],
   "source": [
    "#set directory\n",
    "d = 'ravdess'\n",
    "df = pd.DataFrame()\n",
    "temp =[]\n",
    "##features from file names\n",
    "df['file'] = [x for x in os.listdir(d)] #create file column of filenames\n",
    "df['emotion']=[x.split('-')[2] for x in df['file']] #read emotion code from filename\n",
    "#df['emotion'].replace({'01':'neutral','02':'calm','03':'happy','04':'sad','05':'angry','06':'fearful','07':'disgust','08':'surprised'},inplace=True)\n",
    "#for x in [x.split('-')[6][0:2] for x in df['file']]: #read actor code from filename\n",
    "       # if int(x%2)==0:\n",
    "       #     df['gender']='female' #even = female, odd =male, store in gender column\n",
    "      #  else:\n",
    "          #  df['gender']='male'\n",
    "df['gender'] = [x.split('-')[6][0:2] for x in df['file']]\n",
    "df['intensity']=[x.split('-')[3] for x in df['file']] #read intensity code from filename \n",
    "#df['intensity'].replace({'01':'normal','02':'strong'},inplace=True) #replace intensity code and store in intensity column\n",
    "temp.append(df) #append all folder data to temp list"
   ]
  },
  {
   "cell_type": "code",
   "execution_count": null,
   "id": "ea000297",
   "metadata": {},
   "outputs": [],
   "source": [
    "rms = []\n",
    "chroma_stft = []\n",
    "spec_cent = []\n",
    "spec_bw = []\n",
    "spec_rolloff = []\n",
    "zcr = []\n",
    "mfcc = []\n",
    "file_name = []\n",
    "\n",
    "filepath = [os.path.join(d, x) for x in df['file']] #create path to individual files\n",
    "for file in filepath: #iterate each file and retrieve mel_spec data\n",
    "    data, sample_rate = librosa.load(file)\n",
    "    file_name = file\n",
    "    rms.append(np.mean(librosa.feature.rms(y=data).T, axis=0))\n",
    "    chroma_stft.append(np.mean(librosa.feature.chroma_stft(y=data, sr=sample_rate).T, axis=0))\n",
    "    spec_cent.append(np.mean(librosa.feature.spectral_centroid(y=data, sr=sample_rate).T, axis=0))\n",
    "    spec_bw.append(np.mean(librosa.feature.spectral_bandwidth(y=data, sr=sample_rate).T, axis=0))\n",
    "    spec_rolloff.append(np.mean(librosa.feature.spectral_rolloff(y=data, sr=sample_rate).T, axis=0))\n",
    "    zcr.append(np.mean(librosa.feature.zero_crossing_rate(data).T, axis=0))\n",
    "    mfcc.append(np.mean(librosa.feature.mfcc(y=data, sr=sample_rate).T, axis=0))\n",
    "\n",
    "df1 = pd.DataFrame()\n",
    "df1['rms'] = rms\n",
    "df1['chroma_stft'] = chroma_stft\n",
    "df1['spec_cent'] = spec_cent\n",
    "df1['spec_rolloff'] = spec_rolloff\n",
    "df1['zcr'] = zcr\n",
    "df1['mfcc'] = mfcc\n",
    "df1['file'] = [x for x in os.listdir(d)]"
   ]
  },
  {
   "cell_type": "code",
   "execution_count": null,
   "id": "045d0b2e",
   "metadata": {},
   "outputs": [],
   "source": [
    "df = pd.merge(df, df1, how='inner', left_on='file', right_on='file')\n",
    "gender_test=[]\n",
    "for i in range(len(df)):\n",
    "    if int(df['gender'][i]) % 2 == 0:\n",
    "        gender_test.append('01')\n",
    "    else:\n",
    "            gender_test.append('02')\n",
    "df['gender'] = gender_test\n",
    "df = df.loc[(df['emotion'] == '01')|(df['emotion'] == '03')|(df['emotion'] == '04')].reset_index(drop=True)\n",
    "df = df.drop('file',1)\n",
    "d = [pd.DataFrame(df[col].tolist()).add_prefix(col) for col in df.columns]\n",
    "df = pd.concat(d, axis=1)\n",
    "df = df.rename(columns={\"emotion0\":\"emotion\",\"gender0\":\"gender\",\"intensity0\":\"intensity\"})\n",
    "df"
   ]
  }
 ],
 "metadata": {
  "kernelspec": {
   "display_name": "Python 3",
   "language": "python",
   "name": "python3"
  },
  "language_info": {
   "codemirror_mode": {
    "name": "ipython",
    "version": 3
   },
   "file_extension": ".py",
   "mimetype": "text/x-python",
   "name": "python",
   "nbconvert_exporter": "python",
   "pygments_lexer": "ipython3",
   "version": "3.8.8"
  }
 },
 "nbformat": 4,
 "nbformat_minor": 5
}
