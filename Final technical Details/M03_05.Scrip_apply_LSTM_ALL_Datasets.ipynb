{
  "cells": [
    {
      "cell_type": "markdown",
      "metadata": {},
      "source": [
        "# SER - LSTM on ALL Datasets (English+German+Italian)"
      ]
    },
    {
      "cell_type": "code",
      "execution_count": 1,
      "metadata": {
        "id": "yS-v2UJHRilX"
      },
      "outputs": [],
      "source": [
        "import pandas as pd\n",
        "import numpy as np\n",
        "import seaborn as sns\n",
        "import matplotlib.pyplot as plt\n",
        "\n",
        "from sklearn.preprocessing import OneHotEncoder\n",
        "from sklearn.model_selection import train_test_split\n",
        "from keras.models import Sequential\n",
        "from keras.layers import Dense, LSTM\n",
        "from keras.utils.vis_utils import plot_model\n",
        "from sklearn.metrics import confusion_matrix, classification_report"
      ]
    },
    {
      "cell_type": "code",
      "execution_count": 2,
      "metadata": {
        "id": "zT1CH71gRwH8"
      },
      "outputs": [],
      "source": [
        "df_mfcc = pd.read_csv('/content/drive/MyDrive/all_mfcc_mean.csv') "
      ]
    },
    {
      "cell_type": "code",
      "execution_count": 3,
      "metadata": {
        "colab": {
          "base_uri": "https://localhost:8080/",
          "height": 560
        },
        "id": "4Dcm7SbtRwLP",
        "outputId": "35f52443-3345-41ed-9aea-6d0d67c7b5e9"
      },
      "outputs": [
        {
          "data": {
            "text/html": [
              "\n",
              "  <div id=\"df-2018f53b-d3c2-469e-8e8a-b3ba11150869\">\n",
              "    <div class=\"colab-df-container\">\n",
              "      <div>\n",
              "<style scoped>\n",
              "    .dataframe tbody tr th:only-of-type {\n",
              "        vertical-align: middle;\n",
              "    }\n",
              "\n",
              "    .dataframe tbody tr th {\n",
              "        vertical-align: top;\n",
              "    }\n",
              "\n",
              "    .dataframe thead th {\n",
              "        text-align: right;\n",
              "    }\n",
              "</style>\n",
              "<table border=\"1\" class=\"dataframe\">\n",
              "  <thead>\n",
              "    <tr style=\"text-align: right;\">\n",
              "      <th></th>\n",
              "      <th>file</th>\n",
              "      <th>emotion</th>\n",
              "      <th>emotion_label</th>\n",
              "      <th>dataset</th>\n",
              "      <th>mfcc_1</th>\n",
              "      <th>mfcc_2</th>\n",
              "      <th>mfcc_3</th>\n",
              "      <th>mfcc_4</th>\n",
              "      <th>mfcc_5</th>\n",
              "      <th>mfcc_6</th>\n",
              "      <th>...</th>\n",
              "      <th>mfcc_11</th>\n",
              "      <th>mfcc_12</th>\n",
              "      <th>mfcc_13</th>\n",
              "      <th>mfcc_14</th>\n",
              "      <th>mfcc_15</th>\n",
              "      <th>mfcc_16</th>\n",
              "      <th>mfcc_17</th>\n",
              "      <th>mfcc_18</th>\n",
              "      <th>mfcc_19</th>\n",
              "      <th>mfcc_20</th>\n",
              "    </tr>\n",
              "  </thead>\n",
              "  <tbody>\n",
              "    <tr>\n",
              "      <th>0</th>\n",
              "      <td>03-01-01-01-02-02-06.wav</td>\n",
              "      <td>1</td>\n",
              "      <td>neutral</td>\n",
              "      <td>ravdess</td>\n",
              "      <td>-710.79780</td>\n",
              "      <td>53.439884</td>\n",
              "      <td>-15.190397</td>\n",
              "      <td>8.793198</td>\n",
              "      <td>-0.554165</td>\n",
              "      <td>-10.416554</td>\n",
              "      <td>...</td>\n",
              "      <td>-8.738665</td>\n",
              "      <td>-2.204105</td>\n",
              "      <td>-5.876750</td>\n",
              "      <td>-3.916210</td>\n",
              "      <td>-5.274551</td>\n",
              "      <td>-3.837144</td>\n",
              "      <td>-3.003580</td>\n",
              "      <td>-3.944510</td>\n",
              "      <td>-5.300639</td>\n",
              "      <td>-4.574412</td>\n",
              "    </tr>\n",
              "    <tr>\n",
              "      <th>1</th>\n",
              "      <td>03-01-01-01-02-02-12.wav</td>\n",
              "      <td>1</td>\n",
              "      <td>neutral</td>\n",
              "      <td>ravdess</td>\n",
              "      <td>-676.56665</td>\n",
              "      <td>52.879017</td>\n",
              "      <td>4.699556</td>\n",
              "      <td>6.543307</td>\n",
              "      <td>4.021244</td>\n",
              "      <td>-2.198579</td>\n",
              "      <td>...</td>\n",
              "      <td>-8.157342</td>\n",
              "      <td>-2.291066</td>\n",
              "      <td>-7.150641</td>\n",
              "      <td>-2.611762</td>\n",
              "      <td>-0.946685</td>\n",
              "      <td>-9.005078</td>\n",
              "      <td>-5.436606</td>\n",
              "      <td>-2.201399</td>\n",
              "      <td>-7.016598</td>\n",
              "      <td>-4.207880</td>\n",
              "    </tr>\n",
              "    <tr>\n",
              "      <th>2</th>\n",
              "      <td>03-01-03-01-01-02-06.wav</td>\n",
              "      <td>3</td>\n",
              "      <td>happy</td>\n",
              "      <td>ravdess</td>\n",
              "      <td>-574.16920</td>\n",
              "      <td>42.048836</td>\n",
              "      <td>-50.638577</td>\n",
              "      <td>7.814414</td>\n",
              "      <td>-3.251384</td>\n",
              "      <td>-23.890253</td>\n",
              "      <td>...</td>\n",
              "      <td>-17.436363</td>\n",
              "      <td>-2.909546</td>\n",
              "      <td>-5.733043</td>\n",
              "      <td>-9.023292</td>\n",
              "      <td>-3.229995</td>\n",
              "      <td>-9.130769</td>\n",
              "      <td>-7.111090</td>\n",
              "      <td>-0.888517</td>\n",
              "      <td>-3.120326</td>\n",
              "      <td>-4.910990</td>\n",
              "    </tr>\n",
              "    <tr>\n",
              "      <th>3</th>\n",
              "      <td>03-01-03-01-01-02-12.wav</td>\n",
              "      <td>3</td>\n",
              "      <td>happy</td>\n",
              "      <td>ravdess</td>\n",
              "      <td>-600.39770</td>\n",
              "      <td>60.840874</td>\n",
              "      <td>-14.167917</td>\n",
              "      <td>8.259460</td>\n",
              "      <td>2.347058</td>\n",
              "      <td>-7.515831</td>\n",
              "      <td>...</td>\n",
              "      <td>-4.999807</td>\n",
              "      <td>2.084753</td>\n",
              "      <td>-7.822709</td>\n",
              "      <td>-2.762776</td>\n",
              "      <td>0.491094</td>\n",
              "      <td>-5.751363</td>\n",
              "      <td>-5.363528</td>\n",
              "      <td>0.215265</td>\n",
              "      <td>-4.589694</td>\n",
              "      <td>-0.819311</td>\n",
              "    </tr>\n",
              "    <tr>\n",
              "      <th>4</th>\n",
              "      <td>03-01-04-01-01-02-02.wav</td>\n",
              "      <td>4</td>\n",
              "      <td>sad</td>\n",
              "      <td>ravdess</td>\n",
              "      <td>-668.93360</td>\n",
              "      <td>55.743156</td>\n",
              "      <td>-10.204071</td>\n",
              "      <td>9.223741</td>\n",
              "      <td>-5.716845</td>\n",
              "      <td>-2.916350</td>\n",
              "      <td>...</td>\n",
              "      <td>-5.563672</td>\n",
              "      <td>-3.409941</td>\n",
              "      <td>-5.798491</td>\n",
              "      <td>0.649065</td>\n",
              "      <td>-6.239035</td>\n",
              "      <td>-3.230912</td>\n",
              "      <td>-4.998880</td>\n",
              "      <td>-2.160484</td>\n",
              "      <td>-5.506312</td>\n",
              "      <td>-2.222621</td>\n",
              "    </tr>\n",
              "  </tbody>\n",
              "</table>\n",
              "<p>5 rows × 24 columns</p>\n",
              "</div>\n",
              "      <button class=\"colab-df-convert\" onclick=\"convertToInteractive('df-2018f53b-d3c2-469e-8e8a-b3ba11150869')\"\n",
              "              title=\"Convert this dataframe to an interactive table.\"\n",
              "              style=\"display:none;\">\n",
              "        \n",
              "  <svg xmlns=\"http://www.w3.org/2000/svg\" height=\"24px\"viewBox=\"0 0 24 24\"\n",
              "       width=\"24px\">\n",
              "    <path d=\"M0 0h24v24H0V0z\" fill=\"none\"/>\n",
              "    <path d=\"M18.56 5.44l.94 2.06.94-2.06 2.06-.94-2.06-.94-.94-2.06-.94 2.06-2.06.94zm-11 1L8.5 8.5l.94-2.06 2.06-.94-2.06-.94L8.5 2.5l-.94 2.06-2.06.94zm10 10l.94 2.06.94-2.06 2.06-.94-2.06-.94-.94-2.06-.94 2.06-2.06.94z\"/><path d=\"M17.41 7.96l-1.37-1.37c-.4-.4-.92-.59-1.43-.59-.52 0-1.04.2-1.43.59L10.3 9.45l-7.72 7.72c-.78.78-.78 2.05 0 2.83L4 21.41c.39.39.9.59 1.41.59.51 0 1.02-.2 1.41-.59l7.78-7.78 2.81-2.81c.8-.78.8-2.07 0-2.86zM5.41 20L4 18.59l7.72-7.72 1.47 1.35L5.41 20z\"/>\n",
              "  </svg>\n",
              "      </button>\n",
              "      \n",
              "  <style>\n",
              "    .colab-df-container {\n",
              "      display:flex;\n",
              "      flex-wrap:wrap;\n",
              "      gap: 12px;\n",
              "    }\n",
              "\n",
              "    .colab-df-convert {\n",
              "      background-color: #E8F0FE;\n",
              "      border: none;\n",
              "      border-radius: 50%;\n",
              "      cursor: pointer;\n",
              "      display: none;\n",
              "      fill: #1967D2;\n",
              "      height: 32px;\n",
              "      padding: 0 0 0 0;\n",
              "      width: 32px;\n",
              "    }\n",
              "\n",
              "    .colab-df-convert:hover {\n",
              "      background-color: #E2EBFA;\n",
              "      box-shadow: 0px 1px 2px rgba(60, 64, 67, 0.3), 0px 1px 3px 1px rgba(60, 64, 67, 0.15);\n",
              "      fill: #174EA6;\n",
              "    }\n",
              "\n",
              "    [theme=dark] .colab-df-convert {\n",
              "      background-color: #3B4455;\n",
              "      fill: #D2E3FC;\n",
              "    }\n",
              "\n",
              "    [theme=dark] .colab-df-convert:hover {\n",
              "      background-color: #434B5C;\n",
              "      box-shadow: 0px 1px 3px 1px rgba(0, 0, 0, 0.15);\n",
              "      filter: drop-shadow(0px 1px 2px rgba(0, 0, 0, 0.3));\n",
              "      fill: #FFFFFF;\n",
              "    }\n",
              "  </style>\n",
              "\n",
              "      <script>\n",
              "        const buttonEl =\n",
              "          document.querySelector('#df-2018f53b-d3c2-469e-8e8a-b3ba11150869 button.colab-df-convert');\n",
              "        buttonEl.style.display =\n",
              "          google.colab.kernel.accessAllowed ? 'block' : 'none';\n",
              "\n",
              "        async function convertToInteractive(key) {\n",
              "          const element = document.querySelector('#df-2018f53b-d3c2-469e-8e8a-b3ba11150869');\n",
              "          const dataTable =\n",
              "            await google.colab.kernel.invokeFunction('convertToInteractive',\n",
              "                                                     [key], {});\n",
              "          if (!dataTable) return;\n",
              "\n",
              "          const docLinkHtml = 'Like what you see? Visit the ' +\n",
              "            '<a target=\"_blank\" href=https://colab.research.google.com/notebooks/data_table.ipynb>data table notebook</a>'\n",
              "            + ' to learn more about interactive tables.';\n",
              "          element.innerHTML = '';\n",
              "          dataTable['output_type'] = 'display_data';\n",
              "          await google.colab.output.renderOutput(dataTable, element);\n",
              "          const docLink = document.createElement('div');\n",
              "          docLink.innerHTML = docLinkHtml;\n",
              "          element.appendChild(docLink);\n",
              "        }\n",
              "      </script>\n",
              "    </div>\n",
              "  </div>\n",
              "  "
            ],
            "text/plain": [
              "                       file  emotion emotion_label  dataset     mfcc_1  \\\n",
              "0  03-01-01-01-02-02-06.wav        1       neutral  ravdess -710.79780   \n",
              "1  03-01-01-01-02-02-12.wav        1       neutral  ravdess -676.56665   \n",
              "2  03-01-03-01-01-02-06.wav        3         happy  ravdess -574.16920   \n",
              "3  03-01-03-01-01-02-12.wav        3         happy  ravdess -600.39770   \n",
              "4  03-01-04-01-01-02-02.wav        4           sad  ravdess -668.93360   \n",
              "\n",
              "      mfcc_2     mfcc_3    mfcc_4    mfcc_5     mfcc_6  ...    mfcc_11  \\\n",
              "0  53.439884 -15.190397  8.793198 -0.554165 -10.416554  ...  -8.738665   \n",
              "1  52.879017   4.699556  6.543307  4.021244  -2.198579  ...  -8.157342   \n",
              "2  42.048836 -50.638577  7.814414 -3.251384 -23.890253  ... -17.436363   \n",
              "3  60.840874 -14.167917  8.259460  2.347058  -7.515831  ...  -4.999807   \n",
              "4  55.743156 -10.204071  9.223741 -5.716845  -2.916350  ...  -5.563672   \n",
              "\n",
              "    mfcc_12   mfcc_13   mfcc_14   mfcc_15   mfcc_16   mfcc_17   mfcc_18  \\\n",
              "0 -2.204105 -5.876750 -3.916210 -5.274551 -3.837144 -3.003580 -3.944510   \n",
              "1 -2.291066 -7.150641 -2.611762 -0.946685 -9.005078 -5.436606 -2.201399   \n",
              "2 -2.909546 -5.733043 -9.023292 -3.229995 -9.130769 -7.111090 -0.888517   \n",
              "3  2.084753 -7.822709 -2.762776  0.491094 -5.751363 -5.363528  0.215265   \n",
              "4 -3.409941 -5.798491  0.649065 -6.239035 -3.230912 -4.998880 -2.160484   \n",
              "\n",
              "    mfcc_19   mfcc_20  \n",
              "0 -5.300639 -4.574412  \n",
              "1 -7.016598 -4.207880  \n",
              "2 -3.120326 -4.910990  \n",
              "3 -4.589694 -0.819311  \n",
              "4 -5.506312 -2.222621  \n",
              "\n",
              "[5 rows x 24 columns]"
            ]
          },
          "execution_count": 3,
          "metadata": {},
          "output_type": "execute_result"
        }
      ],
      "source": [
        "df_mfcc.head()"
      ]
    },
    {
      "cell_type": "code",
      "execution_count": 4,
      "metadata": {
        "id": "Lx2WLMrJRwOO"
      },
      "outputs": [],
      "source": [
        "X = df_mfcc.iloc[:,4:].values\n",
        "Y = df_mfcc['emotion_label'].values\n",
        "encoder = OneHotEncoder()\n",
        "Y = encoder.fit_transform(np.array(Y).reshape(-1,1)).toarray()"
      ]
    },
    {
      "cell_type": "code",
      "execution_count": 5,
      "metadata": {
        "colab": {
          "base_uri": "https://localhost:8080/"
        },
        "id": "2ky4CEsERwUC",
        "outputId": "67d02245-b2e9-4861-f569-0b803a5cf58c"
      },
      "outputs": [
        {
          "data": {
            "text/plain": [
              "((755, 20), (189, 20), (755, 3), (189, 3))"
            ]
          },
          "execution_count": 5,
          "metadata": {},
          "output_type": "execute_result"
        }
      ],
      "source": [
        "X_train, X_test, y_train, y_test = train_test_split(X\n",
        "                                                    , Y\n",
        "                                                    , test_size=0.20\n",
        "                                                    , shuffle=True\n",
        "                                                    , random_state=21\n",
        "                                                   )\n",
        "X_train.shape, X_test.shape, y_train.shape, y_test.shape"
      ]
    },
    {
      "cell_type": "code",
      "execution_count": 6,
      "metadata": {
        "colab": {
          "base_uri": "https://localhost:8080/"
        },
        "id": "-yKkrAmWRwXM",
        "outputId": "65c0e256-2270-4cbb-da43-6b816167c19e"
      },
      "outputs": [
        {
          "data": {
            "text/plain": [
              "((755, 20, 1), (755, 3), (189, 20, 1), (189, 3))"
            ]
          },
          "execution_count": 6,
          "metadata": {},
          "output_type": "execute_result"
        }
      ],
      "source": [
        "X_train = np.expand_dims(X_train, axis=2)\n",
        "X_test = np.expand_dims(X_test, axis=2)\n",
        "X_train.shape, y_train.shape, X_test.shape, y_test.shape"
      ]
    },
    {
      "cell_type": "code",
      "execution_count": 7,
      "metadata": {
        "colab": {
          "base_uri": "https://localhost:8080/"
        },
        "id": "jp5bhueGSP_a",
        "outputId": "9ef8f1c1-866d-47df-d41c-6c326a0abd4d"
      },
      "outputs": [
        {
          "name": "stdout",
          "output_type": "stream",
          "text": [
            "Model: \"sequential\"\n",
            "_________________________________________________________________\n",
            " Layer (type)                Output Shape              Param #   \n",
            "=================================================================\n",
            " lstm (LSTM)                 (None, 20, 708)           2010720   \n",
            "                                                                 \n",
            " lstm_1 (LSTM)               (None, 64)                197888    \n",
            "                                                                 \n",
            " dense (Dense)               (None, 3)                 195       \n",
            "                                                                 \n",
            "=================================================================\n",
            "Total params: 2,208,803\n",
            "Trainable params: 2,208,803\n",
            "Non-trainable params: 0\n",
            "_________________________________________________________________\n",
            "None\n"
          ]
        }
      ],
      "source": [
        "model = Sequential()\n",
        "model.add(LSTM(708, return_sequences = True, input_shape=(X_train.shape[1], 1)))\n",
        "model.add(LSTM(64))\n",
        "model.add(Dense(3, activation = 'softmax'))\n",
        "print(model.summary())"
      ]
    },
    {
      "cell_type": "code",
      "execution_count": 8,
      "metadata": {
        "colab": {
          "base_uri": "https://localhost:8080/",
          "height": 422
        },
        "id": "HcuYGFEji4B7",
        "outputId": "12a88bbb-fef3-4214-a29a-513f3f55c1e6"
      },
      "outputs": [
        {
          "data": {
            "image/png": "[encoded data removed]",
            "text/plain": [
              "<IPython.core.display.Image object>"
            ]
          },
          "execution_count": 8,
          "metadata": {},
          "output_type": "execute_result"
        }
      ],
      "source": [
        "plot_model(model, show_shapes=True, show_layer_names=True)"
      ]
    },
    {
      "cell_type": "code",
      "execution_count": 9,
      "metadata": {
        "colab": {
          "base_uri": "https://localhost:8080/"
        },
        "id": "QxzoNQitSQCg",
        "outputId": "b7fc76e3-c069-43e8-b8ea-1af30f20c648"
      },
      "outputs": [
        {
          "name": "stdout",
          "output_type": "stream",
          "text": [
            "Epoch 1/30\n",
            "48/48 [==============================] - 33s 528ms/step - loss: 1.0182 - accuracy: 0.4781 - val_loss: 0.9909 - val_accuracy: 0.5291\n",
            "Epoch 2/30\n",
            "48/48 [==============================] - 13s 266ms/step - loss: 0.9916 - accuracy: 0.4940 - val_loss: 1.0137 - val_accuracy: 0.4974\n",
            "Epoch 3/30\n",
            "48/48 [==============================] - 13s 270ms/step - loss: 0.9240 - accuracy: 0.5629 - val_loss: 0.9254 - val_accuracy: 0.5291\n",
            "Epoch 4/30\n",
            "48/48 [==============================] - 13s 263ms/step - loss: 0.9042 - accuracy: 0.5656 - val_loss: 0.9214 - val_accuracy: 0.5714\n",
            "Epoch 5/30\n",
            "48/48 [==============================] - 13s 266ms/step - loss: 0.8657 - accuracy: 0.6026 - val_loss: 0.8640 - val_accuracy: 0.6349\n",
            "Epoch 6/30\n",
            "48/48 [==============================] - 13s 263ms/step - loss: 0.8157 - accuracy: 0.6159 - val_loss: 0.8459 - val_accuracy: 0.6561\n",
            "Epoch 7/30\n",
            "48/48 [==============================] - 13s 263ms/step - loss: 0.7609 - accuracy: 0.6490 - val_loss: 0.7433 - val_accuracy: 0.6561\n",
            "Epoch 8/30\n",
            "48/48 [==============================] - 14s 282ms/step - loss: 0.7585 - accuracy: 0.6623 - val_loss: 0.8392 - val_accuracy: 0.6349\n",
            "Epoch 9/30\n",
            "48/48 [==============================] - 13s 272ms/step - loss: 0.6822 - accuracy: 0.7073 - val_loss: 0.8096 - val_accuracy: 0.6667\n",
            "Epoch 10/30\n",
            "48/48 [==============================] - 13s 270ms/step - loss: 0.7105 - accuracy: 0.6887 - val_loss: 0.8156 - val_accuracy: 0.6508\n",
            "Epoch 11/30\n",
            "48/48 [==============================] - 13s 270ms/step - loss: 0.6660 - accuracy: 0.6967 - val_loss: 0.8521 - val_accuracy: 0.6138\n",
            "Epoch 12/30\n",
            "48/48 [==============================] - 13s 271ms/step - loss: 0.6524 - accuracy: 0.6848 - val_loss: 0.6769 - val_accuracy: 0.6455\n",
            "Epoch 13/30\n",
            "48/48 [==============================] - 13s 273ms/step - loss: 0.6259 - accuracy: 0.7060 - val_loss: 0.6544 - val_accuracy: 0.7302\n",
            "Epoch 14/30\n",
            "48/48 [==============================] - 13s 280ms/step - loss: 0.5665 - accuracy: 0.7536 - val_loss: 0.6095 - val_accuracy: 0.6984\n",
            "Epoch 15/30\n",
            "48/48 [==============================] - 13s 273ms/step - loss: 0.5460 - accuracy: 0.7603 - val_loss: 0.6820 - val_accuracy: 0.7143\n",
            "Epoch 16/30\n",
            "48/48 [==============================] - 13s 269ms/step - loss: 0.5484 - accuracy: 0.7457 - val_loss: 0.6325 - val_accuracy: 0.7513\n",
            "Epoch 17/30\n",
            "48/48 [==============================] - 14s 294ms/step - loss: 0.5040 - accuracy: 0.7709 - val_loss: 0.6057 - val_accuracy: 0.7407\n",
            "Epoch 18/30\n",
            "48/48 [==============================] - 13s 274ms/step - loss: 0.5091 - accuracy: 0.7709 - val_loss: 0.6157 - val_accuracy: 0.7354\n",
            "Epoch 19/30\n",
            "48/48 [==============================] - 13s 276ms/step - loss: 0.4235 - accuracy: 0.8119 - val_loss: 0.6165 - val_accuracy: 0.7249\n",
            "Epoch 20/30\n",
            "48/48 [==============================] - 13s 273ms/step - loss: 0.4547 - accuracy: 0.8026 - val_loss: 0.6053 - val_accuracy: 0.7725\n",
            "Epoch 21/30\n",
            "48/48 [==============================] - 13s 273ms/step - loss: 0.3971 - accuracy: 0.8146 - val_loss: 0.6669 - val_accuracy: 0.7143\n",
            "Epoch 22/30\n",
            "48/48 [==============================] - 13s 274ms/step - loss: 0.4097 - accuracy: 0.8225 - val_loss: 0.6455 - val_accuracy: 0.7143\n",
            "Epoch 23/30\n",
            "48/48 [==============================] - 13s 270ms/step - loss: 0.3832 - accuracy: 0.8344 - val_loss: 0.7185 - val_accuracy: 0.6349\n",
            "Epoch 24/30\n",
            "48/48 [==============================] - 13s 270ms/step - loss: 0.4091 - accuracy: 0.8172 - val_loss: 0.6026 - val_accuracy: 0.7566\n",
            "Epoch 25/30\n",
            "48/48 [==============================] - 14s 285ms/step - loss: 0.3506 - accuracy: 0.8556 - val_loss: 0.6431 - val_accuracy: 0.7619\n",
            "Epoch 26/30\n",
            "48/48 [==============================] - 13s 276ms/step - loss: 0.3125 - accuracy: 0.8623 - val_loss: 0.5748 - val_accuracy: 0.7566\n",
            "Epoch 27/30\n",
            "48/48 [==============================] - 13s 275ms/step - loss: 0.2695 - accuracy: 0.8887 - val_loss: 0.6305 - val_accuracy: 0.7619\n",
            "Epoch 28/30\n",
            "48/48 [==============================] - 13s 272ms/step - loss: 0.2735 - accuracy: 0.8914 - val_loss: 0.6495 - val_accuracy: 0.7672\n",
            "Epoch 29/30\n",
            "48/48 [==============================] - 13s 269ms/step - loss: 0.2070 - accuracy: 0.9219 - val_loss: 0.6259 - val_accuracy: 0.7831\n",
            "Epoch 30/30\n",
            "48/48 [==============================] - 13s 270ms/step - loss: 0.2021 - accuracy: 0.9179 - val_loss: 0.6419 - val_accuracy: 0.7831\n"
          ]
        }
      ],
      "source": [
        "model.compile(loss='categorical_crossentropy', optimizer='adam',metrics=['accuracy'])\n",
        "model_history=model.fit(X_train, y_train, batch_size=16, epochs=30, validation_data=(X_test, y_test))"
      ]
    },
    {
      "cell_type": "code",
      "execution_count": 10,
      "metadata": {
        "colab": {
          "base_uri": "https://localhost:8080/",
          "height": 439
        },
        "id": "_A8I3rJ1SQF3",
        "outputId": "6bd53269-399a-43c0-8387-585ae9ff31c4"
      },
      "outputs": [
        {
          "name": "stdout",
          "output_type": "stream",
          "text": [
            "6/6 [==============================] - 1s 96ms/step - loss: 0.6419 - accuracy: 0.7831\n",
            "Accuracy of our model on test data :  78.30687761306763 %\n"
          ]
        },
        {
          "data": {
            "image/png": "[encoded data removed]",
            "text/plain": [
              "<Figure size 1440x432 with 2 Axes>"
            ]
          },
          "metadata": {
            "needs_background": "light"
          },
          "output_type": "display_data"
        }
      ],
      "source": [
        "print(\"Accuracy of our model on test data : \" , model.evaluate(X_test,y_test)[1]*100 , \"%\")\n",
        "\n",
        "epochs = [i for i in range(30)]\n",
        "fig , ax = plt.subplots(1,2)\n",
        "train_acc = model_history.history['accuracy']\n",
        "train_loss = model_history.history['loss']\n",
        "test_acc = model_history.history['val_accuracy']\n",
        "test_loss = model_history.history['val_loss']\n",
        "\n",
        "fig.set_size_inches(20,6)\n",
        "ax[0].plot(epochs , train_loss , label = 'Training Loss')\n",
        "ax[0].plot(epochs , test_loss , label = 'Testing Loss')\n",
        "ax[0].set_title('Training & Testing Loss')\n",
        "ax[0].legend()\n",
        "ax[0].set_xlabel(\"Epochs\")\n",
        "\n",
        "ax[1].plot(epochs , train_acc , label = 'Training Accuracy')\n",
        "ax[1].plot(epochs , test_acc , label = 'Testing Accuracy')\n",
        "ax[1].set_title('Training & Testing Accuracy')\n",
        "ax[1].legend()\n",
        "ax[1].set_xlabel(\"Epochs\")\n",
        "plt.show()"
      ]
    },
    {
      "cell_type": "code",
      "execution_count": 11,
      "metadata": {
        "id": "no2T1YBbbknw"
      },
      "outputs": [],
      "source": [
        "pred_test = model.predict(X_test)\n",
        "y_pred = encoder.inverse_transform(pred_test)\n",
        "\n",
        "y_test = encoder.inverse_transform(y_test)"
      ]
    },
    {
      "cell_type": "code",
      "execution_count": 12,
      "metadata": {
        "colab": {
          "base_uri": "https://localhost:8080/",
          "height": 363
        },
        "id": "_VMVPUeXbk0X",
        "outputId": "5e6fc181-ae6a-4305-b807-4e0cf84ca7f8"
      },
      "outputs": [
        {
          "data": {
            "text/html": [
              "\n",
              "  <div id=\"df-8e03254f-dd57-4c7a-bbcc-2333a06f04ee\">\n",
              "    <div class=\"colab-df-container\">\n",
              "      <div>\n",
              "<style scoped>\n",
              "    .dataframe tbody tr th:only-of-type {\n",
              "        vertical-align: middle;\n",
              "    }\n",
              "\n",
              "    .dataframe tbody tr th {\n",
              "        vertical-align: top;\n",
              "    }\n",
              "\n",
              "    .dataframe thead th {\n",
              "        text-align: right;\n",
              "    }\n",
              "</style>\n",
              "<table border=\"1\" class=\"dataframe\">\n",
              "  <thead>\n",
              "    <tr style=\"text-align: right;\">\n",
              "      <th></th>\n",
              "      <th>Predicted Labels</th>\n",
              "      <th>Actual Labels</th>\n",
              "    </tr>\n",
              "  </thead>\n",
              "  <tbody>\n",
              "    <tr>\n",
              "      <th>0</th>\n",
              "      <td>happy</td>\n",
              "      <td>sad</td>\n",
              "    </tr>\n",
              "    <tr>\n",
              "      <th>1</th>\n",
              "      <td>sad</td>\n",
              "      <td>sad</td>\n",
              "    </tr>\n",
              "    <tr>\n",
              "      <th>2</th>\n",
              "      <td>sad</td>\n",
              "      <td>sad</td>\n",
              "    </tr>\n",
              "    <tr>\n",
              "      <th>3</th>\n",
              "      <td>neutral</td>\n",
              "      <td>sad</td>\n",
              "    </tr>\n",
              "    <tr>\n",
              "      <th>4</th>\n",
              "      <td>sad</td>\n",
              "      <td>sad</td>\n",
              "    </tr>\n",
              "    <tr>\n",
              "      <th>5</th>\n",
              "      <td>sad</td>\n",
              "      <td>neutral</td>\n",
              "    </tr>\n",
              "    <tr>\n",
              "      <th>6</th>\n",
              "      <td>sad</td>\n",
              "      <td>sad</td>\n",
              "    </tr>\n",
              "    <tr>\n",
              "      <th>7</th>\n",
              "      <td>sad</td>\n",
              "      <td>sad</td>\n",
              "    </tr>\n",
              "    <tr>\n",
              "      <th>8</th>\n",
              "      <td>happy</td>\n",
              "      <td>happy</td>\n",
              "    </tr>\n",
              "    <tr>\n",
              "      <th>9</th>\n",
              "      <td>sad</td>\n",
              "      <td>sad</td>\n",
              "    </tr>\n",
              "  </tbody>\n",
              "</table>\n",
              "</div>\n",
              "      <button class=\"colab-df-convert\" onclick=\"convertToInteractive('df-8e03254f-dd57-4c7a-bbcc-2333a06f04ee')\"\n",
              "              title=\"Convert this dataframe to an interactive table.\"\n",
              "              style=\"display:none;\">\n",
              "        \n",
              "  <svg xmlns=\"http://www.w3.org/2000/svg\" height=\"24px\"viewBox=\"0 0 24 24\"\n",
              "       width=\"24px\">\n",
              "    <path d=\"M0 0h24v24H0V0z\" fill=\"none\"/>\n",
              "    <path d=\"M18.56 5.44l.94 2.06.94-2.06 2.06-.94-2.06-.94-.94-2.06-.94 2.06-2.06.94zm-11 1L8.5 8.5l.94-2.06 2.06-.94-2.06-.94L8.5 2.5l-.94 2.06-2.06.94zm10 10l.94 2.06.94-2.06 2.06-.94-2.06-.94-.94-2.06-.94 2.06-2.06.94z\"/><path d=\"M17.41 7.96l-1.37-1.37c-.4-.4-.92-.59-1.43-.59-.52 0-1.04.2-1.43.59L10.3 9.45l-7.72 7.72c-.78.78-.78 2.05 0 2.83L4 21.41c.39.39.9.59 1.41.59.51 0 1.02-.2 1.41-.59l7.78-7.78 2.81-2.81c.8-.78.8-2.07 0-2.86zM5.41 20L4 18.59l7.72-7.72 1.47 1.35L5.41 20z\"/>\n",
              "  </svg>\n",
              "      </button>\n",
              "      \n",
              "  <style>\n",
              "    .colab-df-container {\n",
              "      display:flex;\n",
              "      flex-wrap:wrap;\n",
              "      gap: 12px;\n",
              "    }\n",
              "\n",
              "    .colab-df-convert {\n",
              "      background-color: #E8F0FE;\n",
              "      border: none;\n",
              "      border-radius: 50%;\n",
              "      cursor: pointer;\n",
              "      display: none;\n",
              "      fill: #1967D2;\n",
              "      height: 32px;\n",
              "      padding: 0 0 0 0;\n",
              "      width: 32px;\n",
              "    }\n",
              "\n",
              "    .colab-df-convert:hover {\n",
              "      background-color: #E2EBFA;\n",
              "      box-shadow: 0px 1px 2px rgba(60, 64, 67, 0.3), 0px 1px 3px 1px rgba(60, 64, 67, 0.15);\n",
              "      fill: #174EA6;\n",
              "    }\n",
              "\n",
              "    [theme=dark] .colab-df-convert {\n",
              "      background-color: #3B4455;\n",
              "      fill: #D2E3FC;\n",
              "    }\n",
              "\n",
              "    [theme=dark] .colab-df-convert:hover {\n",
              "      background-color: #434B5C;\n",
              "      box-shadow: 0px 1px 3px 1px rgba(0, 0, 0, 0.15);\n",
              "      filter: drop-shadow(0px 1px 2px rgba(0, 0, 0, 0.3));\n",
              "      fill: #FFFFFF;\n",
              "    }\n",
              "  </style>\n",
              "\n",
              "      <script>\n",
              "        const buttonEl =\n",
              "          document.querySelector('#df-8e03254f-dd57-4c7a-bbcc-2333a06f04ee button.colab-df-convert');\n",
              "        buttonEl.style.display =\n",
              "          google.colab.kernel.accessAllowed ? 'block' : 'none';\n",
              "\n",
              "        async function convertToInteractive(key) {\n",
              "          const element = document.querySelector('#df-8e03254f-dd57-4c7a-bbcc-2333a06f04ee');\n",
              "          const dataTable =\n",
              "            await google.colab.kernel.invokeFunction('convertToInteractive',\n",
              "                                                     [key], {});\n",
              "          if (!dataTable) return;\n",
              "\n",
              "          const docLinkHtml = 'Like what you see? Visit the ' +\n",
              "            '<a target=\"_blank\" href=https://colab.research.google.com/notebooks/data_table.ipynb>data table notebook</a>'\n",
              "            + ' to learn more about interactive tables.';\n",
              "          element.innerHTML = '';\n",
              "          dataTable['output_type'] = 'display_data';\n",
              "          await google.colab.output.renderOutput(dataTable, element);\n",
              "          const docLink = document.createElement('div');\n",
              "          docLink.innerHTML = docLinkHtml;\n",
              "          element.appendChild(docLink);\n",
              "        }\n",
              "      </script>\n",
              "    </div>\n",
              "  </div>\n",
              "  "
            ],
            "text/plain": [
              "  Predicted Labels Actual Labels\n",
              "0            happy           sad\n",
              "1              sad           sad\n",
              "2              sad           sad\n",
              "3          neutral           sad\n",
              "4              sad           sad\n",
              "5              sad       neutral\n",
              "6              sad           sad\n",
              "7              sad           sad\n",
              "8            happy         happy\n",
              "9              sad           sad"
            ]
          },
          "execution_count": 12,
          "metadata": {},
          "output_type": "execute_result"
        }
      ],
      "source": [
        "df = pd.DataFrame(columns=['Predicted Labels', 'Actual Labels'])\n",
        "df['Predicted Labels'] = y_pred.flatten()\n",
        "df['Actual Labels'] = y_test.flatten()\n",
        "\n",
        "df.head(10)"
      ]
    },
    {
      "cell_type": "code",
      "execution_count": 13,
      "metadata": {
        "colab": {
          "base_uri": "https://localhost:8080/",
          "height": 630
        },
        "id": "JUGkTQIjbk3X",
        "outputId": "99437048-6cb3-4eec-b198-5770e514147d"
      },
      "outputs": [
        {
          "data": {
            "image/png": "[encoded data removed]",
            "text/plain": [
              "<Figure size 864x720 with 2 Axes>"
            ]
          },
          "metadata": {
            "needs_background": "light"
          },
          "output_type": "display_data"
        }
      ],
      "source": [
        "cm = confusion_matrix(y_test, y_pred)\n",
        "plt.figure(figsize = (12, 10))\n",
        "cm = pd.DataFrame(cm , index = [i for i in encoder.categories_] , columns = [i for i in encoder.categories_])\n",
        "sns.heatmap(cm, linecolor='white', cmap='Blues', linewidth=1, annot=True, fmt='')\n",
        "plt.title('Confusion Matrix', size=20)\n",
        "plt.xlabel('Predicted Labels', size=14)\n",
        "plt.ylabel('Actual Labels', size=14)\n",
        "plt.show()"
      ]
    },
    {
      "cell_type": "code",
      "execution_count": 14,
      "metadata": {
        "colab": {
          "base_uri": "https://localhost:8080/"
        },
        "id": "1fsvkN-tbk6q",
        "outputId": "89e8977a-db89-476f-afd7-86f30718d6e1"
      },
      "outputs": [
        {
          "name": "stdout",
          "output_type": "stream",
          "text": [
            "              precision    recall  f1-score   support\n",
            "\n",
            "       happy       0.84      0.80      0.82        61\n",
            "     neutral       0.71      0.74      0.73        50\n",
            "         sad       0.78      0.79      0.79        78\n",
            "\n",
            "    accuracy                           0.78       189\n",
            "   macro avg       0.78      0.78      0.78       189\n",
            "weighted avg       0.78      0.78      0.78       189\n",
            "\n"
          ]
        }
      ],
      "source": [
        "print(classification_report(y_test, y_pred))"
      ]
    },
    {
      "cell_type": "code",
      "execution_count": 14,
      "metadata": {
        "id": "mOSgNluWcDFX"
      },
      "outputs": [],
      "source": []
    }
  ],
  "metadata": {
    "colab": {
      "collapsed_sections": [],
      "name": "ALL Datasets - LSTM.ipynb",
      "provenance": []
    },
    "kernelspec": {
      "display_name": "Python 3",
      "name": "python3"
    },
    "language_info": {
      "name": "python"
    }
  },
  "nbformat": 4,
  "nbformat_minor": 0
}
