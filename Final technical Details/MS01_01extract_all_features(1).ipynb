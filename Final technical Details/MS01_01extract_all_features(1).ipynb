{
 "cells": [
  {
   "cell_type": "code",
   "execution_count": 1,
   "id": "5ecdf093",
   "metadata": {},
   "outputs": [],
   "source": [
    "import pandas as pd, numpy as np\n",
    "import librosa, os"
   ]
  },
  {
   "cell_type": "markdown",
   "id": "249e5b0f",
   "metadata": {},
   "source": [
    "## Create initial data frame\n",
    "**store filenames, filepaths, emotion code as label**"
   ]
  },
  {
   "cell_type": "code",
   "execution_count": 27,
   "id": "0b2a3664",
   "metadata": {},
   "outputs": [],
   "source": [
    "#create full filepaths\n",
    "d = \"..\\\\SER_IGP_Project\\\\RAVDESS\\\\audio_speech_actors_01-24\"\n",
    "filepaths = []\n",
    "for path, subdirs, files in os.walk(d):\n",
    "    for name in files:\n",
    "        filepaths.append(os.path.join(path, name))\n",
    "        \n",
    "#filenames and labels\n",
    "df=pd.DataFrame()\n",
    "df['path'] = [x for x in filepaths]\n",
    "df['file'] = [x[-24:] for x in filepaths] #populate filenames\n",
    "df['label'] = [x.split('-')[2] for x in df['file']] #read emotion code and set as label\n",
    "df=df.loc[(df[\"label\"]=='01')|(df[\"label\"]=='03')|(df[\"label\"]=='04')].reset_index(drop=True) #filter neutral, happy, sad"
   ]
  },
  {
   "cell_type": "markdown",
   "id": "a6aaad08",
   "metadata": {},
   "source": [
    "## feature data\n",
    "**store all extracted feature data    \n",
    "limited to 50 observations to reduce processing time    \n",
    "output to csv**"
   ]
  },
  {
   "cell_type": "code",
   "execution_count": 35,
   "id": "8c9bebeb",
   "metadata": {},
   "outputs": [],
   "source": [
    "#set empty lists to store data\n",
    "stft,mel,cent,rms,mfcc,bw,contrast,flat,rolloff,zcr=[],[],[],[],[],[],[],[],[],[]\n",
    "\n",
    "#iterate files to extract features\n",
    "for x in df['path'][:50]: #note: limited to 10 to reduce processing time and out put size\n",
    "    y, sr = librosa.load(x) #set file and  sample rate\n",
    "    stft.append(librosa.stft(y))\n",
    "    mfcc.append(librosa.feature.mfcc(y=y,sr=sr))\n",
    "    rms.append(librosa.feature.rms(y=y))\n",
    "    cent.append(librosa.feature.spectral_centroid(y=y, sr=sr))\n",
    "    bw.append(librosa.feature.spectral_bandwidth(y=y,sr=sr))\n",
    "    contrast.append(librosa.feature.spectral_contrast(y=y,sr=sr))\n",
    "    flat.append(librosa.feature.spectral_flatness(y=y))\n",
    "    rolloff.append(librosa.feature.spectral_rolloff(y=y,sr=sr))\n",
    "    zcr.append(librosa.feature.zero_crossing_rate(y=y))\n",
    "    mel.append(librosa.feature.melspectrogram(y=y,sr=sr))\n",
    "#store all extracted data as df\n",
    "df1 = pd.DataFrame({'stft':stft,\n",
    "                    'melspec':mel,\n",
    "                    'spec_centroid':cent,\n",
    "                    'root_mean_square_energy':rms,\n",
    "                    'mfcc':mfcc,\n",
    "                    'spectral_bandwidth':bw,\n",
    "                    'spectral_contrast':contrast,\n",
    "                    'spectral_flatness':flat,\n",
    "                    'roll_off':rolloff,\n",
    "                    'zero_crossing':zcr,})\n",
    "\n",
    "#concatenate label + all vectors to one df\n",
    "vectordf = pd.concat([df['label'][:50], df1], axis=1)\n",
    "\n",
    "#output to csv\n",
    "vectordf.to_csv('all_features.csv',index=False)"
   ]
  }
 ],
 "metadata": {
  "kernelspec": {
   "display_name": "Python 3 (ipykernel)",
   "language": "python",
   "name": "python3"
  },
  "language_info": {
   "codemirror_mode": {
    "name": "ipython",
    "version": 3
   },
   "file_extension": ".py",
   "mimetype": "text/x-python",
   "name": "python",
   "nbconvert_exporter": "python",
   "pygments_lexer": "ipython3",
   "version": "3.9.7"
  }
 },
 "nbformat": 4,
 "nbformat_minor": 5
}
