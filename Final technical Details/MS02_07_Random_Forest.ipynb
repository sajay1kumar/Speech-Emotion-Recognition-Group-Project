{
 "cells": [
  {
   "cell_type": "markdown",
   "id": "403dfefe",
   "metadata": {},
   "source": [
    "# MS02_07_Random_Forest"
   ]
  },
  {
   "cell_type": "code",
   "execution_count": 1,
   "id": "7b1c32b6",
   "metadata": {},
   "outputs": [],
   "source": [
    "import numpy as np\n",
    "import pandas as pd\n",
    "import matplotlib.pyplot as plt"
   ]
  },
  {
   "cell_type": "code",
   "execution_count": 2,
   "id": "76e2506c",
   "metadata": {},
   "outputs": [],
   "source": [
    "df_mfcc = pd.read_csv(\"df_mfcc.csv\")\n",
    "df_mfcc_mean = pd.read_csv(\"df_mfcc_mean.csv\")\n",
    "\n",
    "df_mfcc = df_mfcc.drop(['Unnamed: 0', 'gender', 'intensity'], axis = 1)\n",
    "df_mfcc_mean = df_mfcc_mean.drop(['gender', 'intensity'],axis= 1)"
   ]
  },
  {
   "cell_type": "markdown",
   "id": "fea5077b",
   "metadata": {},
   "source": [
    "### Mean MFCC "
   ]
  },
  {
   "cell_type": "code",
   "execution_count": 3,
   "id": "73c32746",
   "metadata": {},
   "outputs": [
    {
     "name": "stderr",
     "output_type": "stream",
     "text": [
      "/var/folders/b5/tcm__vq92md_0yg25bdy_dwc0000gn/T/ipykernel_7631/2134602876.py:3: FutureWarning: In a future version of pandas all arguments of DataFrame.drop except for the argument 'labels' will be keyword-only.\n",
      "  X_mfcc_mean = np.array(df_mfcc_mean.drop('emotion',1))\n"
     ]
    }
   ],
   "source": [
    "from sklearn.model_selection import train_test_split\n",
    "\n",
    "X_mfcc_mean = np.array(df_mfcc_mean.drop('emotion',1))\n",
    "\n",
    "y_mfcc_mean = np.array(df_mfcc_mean['emotion'])\n",
    "\n",
    "X_train_mfcc_mean,X_test_mfcc_mean,y_train_mfcc_mean,y_test_mfcc_mean = train_test_split(X_mfcc_mean,y_mfcc_mean,test_size=0.25,random_state=66)"
   ]
  },
  {
   "cell_type": "code",
   "execution_count": 4,
   "id": "bf442524",
   "metadata": {},
   "outputs": [
    {
     "data": {
      "text/plain": [
       "{'max_features': 'auto', 'n_estimators': 250}"
      ]
     },
     "execution_count": 4,
     "metadata": {},
     "output_type": "execute_result"
    }
   ],
   "source": [
    "# using GridSearchCV to find optimal number of n_estimators and max_features\n",
    "\n",
    "from sklearn.model_selection import GridSearchCV\n",
    "from sklearn.ensemble import RandomForestClassifier\n",
    "\n",
    "random_forest_model = RandomForestClassifier(random_state=66)\n",
    "\n",
    "param_grid = { \n",
    "    'n_estimators': [100,250,500,1000,2000],\n",
    "    'max_features': ['auto', 'sqrt', 'log2'],\n",
    "}\n",
    "CV_rfc = GridSearchCV(estimator=random_forest_model, param_grid=param_grid, cv=3)\n",
    "CV_rfc.fit(X_train_mfcc_mean, y_train_mfcc_mean)\n",
    "CV_rfc.best_params_"
   ]
  },
  {
   "cell_type": "code",
   "execution_count": 5,
   "id": "f1f621bf",
   "metadata": {},
   "outputs": [
    {
     "name": "stdout",
     "output_type": "stream",
     "text": [
      "Accuracy: 79.17%\n"
     ]
    }
   ],
   "source": [
    "from sklearn.ensemble import RandomForestClassifier\n",
    "from sklearn.metrics import accuracy_score\n",
    "rf = RandomForestClassifier(n_estimators=250, max_features='auto',random_state=66)\n",
    "rf.fit(X_train_mfcc_mean, y_train_mfcc_mean)\n",
    "rf_predictor = rf.predict(X_test_mfcc_mean)\n",
    "rf_accuracy=accuracy_score(y_true=y_test_mfcc_mean, y_pred=rf_predictor)\n",
    "\n",
    "print(\"Accuracy: {:.2f}%\".format(rf_accuracy*100))"
   ]
  },
  {
   "cell_type": "code",
   "execution_count": 6,
   "id": "f6ab6887",
   "metadata": {},
   "outputs": [
    {
     "name": "stdout",
     "output_type": "stream",
     "text": [
      "f1 score mean mfcc: 78.99%\n"
     ]
    }
   ],
   "source": [
    "from sklearn.metrics import f1_score\n",
    "\n",
    "print(\"f1 score mean mfcc: {:.2f}%\".format(f1_score(y_test_mfcc_mean, rf_predictor, average=\"weighted\")*100))"
   ]
  },
  {
   "cell_type": "code",
   "execution_count": 8,
   "id": "3c9de6e9",
   "metadata": {},
   "outputs": [
    {
     "name": "stderr",
     "output_type": "stream",
     "text": [
      "/Users/jessicaduffield/miniforge3/envs/tensorflow/lib/python3.9/site-packages/sklearn/utils/deprecation.py:87: FutureWarning: Function plot_confusion_matrix is deprecated; Function `plot_confusion_matrix` is deprecated in 1.0 and will be removed in 1.2. Use one of the class methods: ConfusionMatrixDisplay.from_predictions or ConfusionMatrixDisplay.from_estimator.\n",
      "  warnings.warn(msg, category=FutureWarning)\n"
     ]
    },
    {
     "data": {
      "image/png": "[encoded data removed]",
      "text/plain": [
       "<Figure size 432x288 with 2 Axes>"
      ]
     },
     "metadata": {
      "needs_background": "light"
     },
     "output_type": "display_data"
    }
   ],
   "source": [
    "from matplotlib import pyplot as plt\n",
    "from sklearn.metrics import plot_confusion_matrix\n",
    "plot_confusion_matrix(rf, X_test_mfcc_mean, y_test_mfcc_mean, cmap=plt.cm.Reds)\n",
    "plt.show()"
   ]
  },
  {
   "cell_type": "markdown",
   "id": "93d23b50",
   "metadata": {},
   "source": [
    "### Mean Normalised MFCC"
   ]
  },
  {
   "cell_type": "code",
   "execution_count": 9,
   "id": "90c75917",
   "metadata": {},
   "outputs": [
    {
     "name": "stderr",
     "output_type": "stream",
     "text": [
      "/var/folders/b5/tcm__vq92md_0yg25bdy_dwc0000gn/T/ipykernel_7631/2121577388.py:4: FutureWarning: In a future version of pandas all arguments of DataFrame.drop except for the argument 'labels' will be keyword-only.\n",
      "  X_mfcc_mean = np.array(df_mfcc_mean.drop('emotion',1))\n"
     ]
    }
   ],
   "source": [
    "from sklearn.model_selection import train_test_split\n",
    "from sklearn.preprocessing import normalize\n",
    "\n",
    "X_mfcc_mean = np.array(df_mfcc_mean.drop('emotion',1))\n",
    "\n",
    "y_mfcc_mean = np.array(df_mfcc_mean['emotion'])\n",
    "\n",
    "X_train_mfcc_mean,X_test_mfcc_mean,y_train_mfcc_mean,y_test_mfcc_mean = train_test_split(X_mfcc_mean,y_mfcc_mean,test_size=0.25,random_state=66)\n",
    "\n",
    "X_train_mfcc_mean_norm = normalize(X_train_mfcc_mean, norm='l2')\n",
    "X_test_mfcc_mean_norm = normalize(X_test_mfcc_mean, norm='l2')"
   ]
  },
  {
   "cell_type": "code",
   "execution_count": 10,
   "id": "192e1404",
   "metadata": {},
   "outputs": [
    {
     "data": {
      "text/plain": [
       "{'max_features': 'auto', 'n_estimators': 1000}"
      ]
     },
     "execution_count": 10,
     "metadata": {},
     "output_type": "execute_result"
    }
   ],
   "source": [
    "# using GridSearchCV to find optimal number of n_estimators and max_features\n",
    "\n",
    "from sklearn.model_selection import GridSearchCV\n",
    "from sklearn.ensemble import RandomForestClassifier\n",
    "\n",
    "random_forest_model = RandomForestClassifier(random_state=66)\n",
    "\n",
    "param_grid = { \n",
    "    'n_estimators': [100,250,500,1000,2000],\n",
    "    'max_features': ['auto', 'sqrt', 'log2'],\n",
    "}\n",
    "CV_rfc = GridSearchCV(estimator=random_forest_model, param_grid=param_grid, cv=3)\n",
    "CV_rfc.fit(X_train_mfcc_mean_norm, y_train_mfcc_mean)\n",
    "CV_rfc.best_params_"
   ]
  },
  {
   "cell_type": "code",
   "execution_count": 11,
   "id": "2b5a2ad5",
   "metadata": {},
   "outputs": [
    {
     "name": "stdout",
     "output_type": "stream",
     "text": [
      "Accuracy: 74.17%\n"
     ]
    }
   ],
   "source": [
    "from sklearn.ensemble import RandomForestClassifier\n",
    "from sklearn.metrics import accuracy_score\n",
    "rf = RandomForestClassifier(n_estimators=1000, max_features='auto',random_state=66)\n",
    "rf.fit(X_train_mfcc_mean_norm, y_train_mfcc_mean)\n",
    "rf_predictor = rf.predict(X_test_mfcc_mean_norm)\n",
    "rf_accuracy=accuracy_score(y_true=y_test_mfcc_mean, y_pred=rf_predictor)\n",
    "\n",
    "print(\"Accuracy: {:.2f}%\".format(rf_accuracy*100))"
   ]
  },
  {
   "cell_type": "code",
   "execution_count": 13,
   "id": "cd08af98",
   "metadata": {},
   "outputs": [
    {
     "name": "stdout",
     "output_type": "stream",
     "text": [
      "f1 score norm mean mfcc: 74.06%\n"
     ]
    }
   ],
   "source": [
    "from sklearn.metrics import f1_score\n",
    "\n",
    "print(\"f1 score norm mean mfcc: {:.2f}%\".format(f1_score(y_test_mfcc_mean, rf_predictor, average=\"weighted\")*100))"
   ]
  },
  {
   "cell_type": "code",
   "execution_count": 14,
   "id": "5762b716",
   "metadata": {},
   "outputs": [
    {
     "name": "stderr",
     "output_type": "stream",
     "text": [
      "/Users/jessicaduffield/miniforge3/envs/tensorflow/lib/python3.9/site-packages/sklearn/utils/deprecation.py:87: FutureWarning: Function plot_confusion_matrix is deprecated; Function `plot_confusion_matrix` is deprecated in 1.0 and will be removed in 1.2. Use one of the class methods: ConfusionMatrixDisplay.from_predictions or ConfusionMatrixDisplay.from_estimator.\n",
      "  warnings.warn(msg, category=FutureWarning)\n"
     ]
    },
    {
     "data": {
      "image/png": "[encoded data removed]",
      "text/plain": [
       "<Figure size 432x288 with 2 Axes>"
      ]
     },
     "metadata": {
      "needs_background": "light"
     },
     "output_type": "display_data"
    }
   ],
   "source": [
    "from matplotlib import pyplot as plt\n",
    "from sklearn.metrics import plot_confusion_matrix\n",
    "plot_confusion_matrix(rf, X_test_mfcc_mean_norm, y_test_mfcc_mean, cmap=plt.cm.Reds)\n",
    "plt.show()"
   ]
  },
  {
   "cell_type": "markdown",
   "id": "e80842fb",
   "metadata": {},
   "source": [
    "### Raw MFCC"
   ]
  },
  {
   "cell_type": "code",
   "execution_count": 15,
   "id": "4e234d14",
   "metadata": {},
   "outputs": [
    {
     "name": "stderr",
     "output_type": "stream",
     "text": [
      "/var/folders/b5/tcm__vq92md_0yg25bdy_dwc0000gn/T/ipykernel_7631/2904001863.py:3: FutureWarning: In a future version of pandas all arguments of DataFrame.drop except for the argument 'labels' will be keyword-only.\n",
      "  X_mfcc = np.array(df_mfcc.drop('emotion',1))\n"
     ]
    }
   ],
   "source": [
    "from sklearn.model_selection import train_test_split\n",
    "\n",
    "X_mfcc = np.array(df_mfcc.drop('emotion',1))\n",
    "\n",
    "y_mfcc = np.array(df_mfcc['emotion'])\n",
    "\n",
    "X_train_mfcc,X_test_mfcc,y_train_mfcc,y_test_mfcc = train_test_split(X_mfcc,y_mfcc,test_size=0.25,random_state=66)"
   ]
  },
  {
   "cell_type": "code",
   "execution_count": 16,
   "id": "01692e86",
   "metadata": {},
   "outputs": [
    {
     "data": {
      "text/plain": [
       "{'max_features': 'auto', 'n_estimators': 1000}"
      ]
     },
     "execution_count": 16,
     "metadata": {},
     "output_type": "execute_result"
    }
   ],
   "source": [
    "# using GridSearchCV to find optimal number of n_estimators and max_features\n",
    "\n",
    "from sklearn.model_selection import GridSearchCV\n",
    "from sklearn.ensemble import RandomForestClassifier\n",
    "\n",
    "random_forest_model = RandomForestClassifier(random_state=66)\n",
    "\n",
    "param_grid = { \n",
    "    'n_estimators': [100,250,500,1000,2000],\n",
    "    'max_features': ['auto', 'sqrt', 'log2'],\n",
    "}\n",
    "CV_rfc = GridSearchCV(estimator=random_forest_model, param_grid=param_grid, cv=3)\n",
    "CV_rfc.fit(X_train_mfcc, y_train_mfcc)\n",
    "CV_rfc.best_params_"
   ]
  },
  {
   "cell_type": "code",
   "execution_count": 26,
   "id": "21dc92a2",
   "metadata": {},
   "outputs": [
    {
     "name": "stdout",
     "output_type": "stream",
     "text": [
      "Accuracy: 70.00%\n"
     ]
    }
   ],
   "source": [
    "from sklearn.ensemble import RandomForestClassifier\n",
    "from sklearn.metrics import accuracy_score\n",
    "rf = RandomForestClassifier(n_estimators=1000, max_features='auto',random_state=66)\n",
    "rf.fit(X_train_mfcc, y_train_mfcc)\n",
    "rf_predictor = rf.predict(X_test_mfcc)\n",
    "rf_accuracy=accuracy_score(y_true=y_test_mfcc, y_pred=rf_predictor)\n",
    "\n",
    "print(\"Accuracy: {:.2f}%\".format(rf_accuracy*100))"
   ]
  },
  {
   "cell_type": "code",
   "execution_count": 27,
   "id": "b013c56d",
   "metadata": {},
   "outputs": [
    {
     "name": "stdout",
     "output_type": "stream",
     "text": [
      "f1 score raw mfcc: 68.32%\n"
     ]
    }
   ],
   "source": [
    "from sklearn.metrics import f1_score\n",
    "\n",
    "print(\"f1 score raw mfcc: {:.2f}%\".format(f1_score(y_test_mfcc, rf_predictor, average=\"weighted\")*100))"
   ]
  },
  {
   "cell_type": "code",
   "execution_count": 19,
   "id": "f0f91caf",
   "metadata": {},
   "outputs": [
    {
     "name": "stderr",
     "output_type": "stream",
     "text": [
      "/Users/jessicaduffield/miniforge3/envs/tensorflow/lib/python3.9/site-packages/sklearn/utils/deprecation.py:87: FutureWarning: Function plot_confusion_matrix is deprecated; Function `plot_confusion_matrix` is deprecated in 1.0 and will be removed in 1.2. Use one of the class methods: ConfusionMatrixDisplay.from_predictions or ConfusionMatrixDisplay.from_estimator.\n",
      "  warnings.warn(msg, category=FutureWarning)\n"
     ]
    },
    {
     "data": {
      "image/png": "[encoded data removed]",
      "text/plain": [
       "<Figure size 432x288 with 2 Axes>"
      ]
     },
     "metadata": {
      "needs_background": "light"
     },
     "output_type": "display_data"
    }
   ],
   "source": [
    "from matplotlib import pyplot as plt\n",
    "from sklearn.metrics import plot_confusion_matrix\n",
    "plot_confusion_matrix(rf, X_test_mfcc, y_test_mfcc, cmap=plt.cm.Reds)\n",
    "plt.show()"
   ]
  },
  {
   "cell_type": "markdown",
   "id": "4f27fefa",
   "metadata": {},
   "source": [
    "### Raw Normalised MFCC"
   ]
  },
  {
   "cell_type": "code",
   "execution_count": 20,
   "id": "3f83d528",
   "metadata": {},
   "outputs": [
    {
     "name": "stderr",
     "output_type": "stream",
     "text": [
      "/var/folders/b5/tcm__vq92md_0yg25bdy_dwc0000gn/T/ipykernel_7631/1107300198.py:3: FutureWarning: In a future version of pandas all arguments of DataFrame.drop except for the argument 'labels' will be keyword-only.\n",
      "  X_mfcc = np.array(df_mfcc.drop('emotion',1))\n"
     ]
    }
   ],
   "source": [
    "from sklearn.model_selection import train_test_split\n",
    "\n",
    "X_mfcc = np.array(df_mfcc.drop('emotion',1))\n",
    "\n",
    "y_mfcc = np.array(df_mfcc['emotion'])\n",
    "\n",
    "X_train_mfcc,X_test_mfcc,y_train_mfcc,y_test_mfcc = train_test_split(X_mfcc,y_mfcc,test_size=0.25,random_state=66)\n",
    "\n",
    "X_train_mfcc_norm = normalize(X_train_mfcc, norm='l2')\n",
    "X_test_mfcc_norm = normalize(X_test_mfcc, norm='l2')"
   ]
  },
  {
   "cell_type": "code",
   "execution_count": 21,
   "id": "fa0a7a8f",
   "metadata": {},
   "outputs": [
    {
     "data": {
      "text/plain": [
       "{'max_features': 'auto', 'n_estimators': 1000}"
      ]
     },
     "execution_count": 21,
     "metadata": {},
     "output_type": "execute_result"
    }
   ],
   "source": [
    "# using GridSearchCV to find optimal number of n_estimators and max_features\n",
    "\n",
    "from sklearn.model_selection import GridSearchCV\n",
    "from sklearn.ensemble import RandomForestClassifier\n",
    "\n",
    "random_forest_model = RandomForestClassifier(random_state=66)\n",
    "\n",
    "param_grid = { \n",
    "    'n_estimators': [100,250,500,1000,2000],\n",
    "    'max_features': ['auto', 'sqrt', 'log2'],\n",
    "}\n",
    "CV_rfc = GridSearchCV(estimator=random_forest_model, param_grid=param_grid, cv=3)\n",
    "CV_rfc.fit(X_train_mfcc_norm, y_train_mfcc)\n",
    "CV_rfc.best_params_"
   ]
  },
  {
   "cell_type": "code",
   "execution_count": 22,
   "id": "11de764f",
   "metadata": {},
   "outputs": [
    {
     "name": "stdout",
     "output_type": "stream",
     "text": [
      "Accuracy: 69.17%\n"
     ]
    }
   ],
   "source": [
    "from sklearn.ensemble import RandomForestClassifier\n",
    "from sklearn.metrics import accuracy_score\n",
    "rf = RandomForestClassifier(n_estimators=1000, max_features='auto',random_state=66)\n",
    "rf.fit(X_train_mfcc_norm, y_train_mfcc)\n",
    "rf_predictor = rf.predict(X_test_mfcc_norm)\n",
    "rf_accuracy=accuracy_score(y_true=y_test_mfcc, y_pred=rf_predictor)\n",
    "\n",
    "print(\"Accuracy: {:.2f}%\".format(rf_accuracy*100))"
   ]
  },
  {
   "cell_type": "code",
   "execution_count": 23,
   "id": "66c7dcae",
   "metadata": {},
   "outputs": [
    {
     "name": "stdout",
     "output_type": "stream",
     "text": [
      "f1 score raw norm mfcc: 65.95%\n"
     ]
    }
   ],
   "source": [
    "from sklearn.metrics import f1_score\n",
    "\n",
    "print(\"f1 score raw norm mfcc: {:.2f}%\".format(f1_score(y_test_mfcc, rf_predictor, average=\"weighted\")*100))"
   ]
  },
  {
   "cell_type": "code",
   "execution_count": 24,
   "id": "67780f0f",
   "metadata": {},
   "outputs": [
    {
     "name": "stderr",
     "output_type": "stream",
     "text": [
      "/Users/jessicaduffield/miniforge3/envs/tensorflow/lib/python3.9/site-packages/sklearn/utils/deprecation.py:87: FutureWarning: Function plot_confusion_matrix is deprecated; Function `plot_confusion_matrix` is deprecated in 1.0 and will be removed in 1.2. Use one of the class methods: ConfusionMatrixDisplay.from_predictions or ConfusionMatrixDisplay.from_estimator.\n",
      "  warnings.warn(msg, category=FutureWarning)\n"
     ]
    },
    {
     "data": {
      "image/png": "[encoded data removed]",
      "text/plain": [
       "<Figure size 432x288 with 2 Axes>"
      ]
     },
     "metadata": {
      "needs_background": "light"
     },
     "output_type": "display_data"
    }
   ],
   "source": [
    "from matplotlib import pyplot as plt\n",
    "from sklearn.metrics import plot_confusion_matrix\n",
    "plot_confusion_matrix(rf, X_test_mfcc_norm, y_test_mfcc, cmap=plt.cm.Reds)\n",
    "plt.show()"
   ]
  }
 ],
 "metadata": {
  "kernelspec": {
   "display_name": "Python 3.9 (tensorflow)",
   "language": "python",
   "name": "tensorflow"
  },
  "language_info": {
   "codemirror_mode": {
    "name": "ipython",
    "version": 3
   },
   "file_extension": ".py",
   "mimetype": "text/x-python",
   "name": "python",
   "nbconvert_exporter": "python",
   "pygments_lexer": "ipython3",
   "version": "3.9.10"
  }
 },
 "nbformat": 4,
 "nbformat_minor": 5
}
