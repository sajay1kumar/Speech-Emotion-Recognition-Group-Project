{
 "cells": [
  {
   "cell_type": "markdown",
   "id": "15bfbc5b",
   "metadata": {},
   "source": [
    "# MS02_01_Naive_Bayes"
   ]
  },
  {
   "cell_type": "markdown",
   "id": "9a1af6fc",
   "metadata": {},
   "source": [
    "### Importing libraries, data and creating training and test datasets"
   ]
  },
  {
   "cell_type": "code",
   "execution_count": 4,
   "id": "021caa4b-a89d-4ce2-a942-681689db5961",
   "metadata": {},
   "outputs": [],
   "source": [
    "import numpy as np\n",
    "import pandas as pd\n",
    "import matplotlib.pyplot as plt\n"
   ]
  },
  {
   "cell_type": "code",
   "execution_count": 5,
   "id": "e0bd8fb8-d096-4911-81a3-e2b4defd4165",
   "metadata": {},
   "outputs": [],
   "source": [
    "df_mfcc = pd.read_csv(\"df_mfcc.csv\")\n",
    "df_mfcc_mean = pd.read_csv(\"df_mfcc_mean.csv\")"
   ]
  },
  {
   "cell_type": "code",
   "execution_count": 6,
   "id": "bf3d5132-afae-4e22-a74a-15a40cc64059",
   "metadata": {},
   "outputs": [
    {
     "name": "stderr",
     "output_type": "stream",
     "text": [
      "/var/folders/0f/htyhfh1n4_sgf576k61d2g_h0000gp/T/ipykernel_9217/2134602876.py:3: FutureWarning: In a future version of pandas all arguments of DataFrame.drop except for the argument 'labels' will be keyword-only.\n",
      "  X_mfcc_mean = np.array(df_mfcc_mean.drop('emotion',1))\n"
     ]
    }
   ],
   "source": [
    "from sklearn.model_selection import train_test_split\n",
    "\n",
    "X_mfcc_mean = np.array(df_mfcc_mean.drop('emotion',1))\n",
    "\n",
    "y_mfcc_mean = np.array(df_mfcc_mean['emotion'])\n",
    "\n",
    "X_train_mfcc_mean,X_test_mfcc_mean,y_train_mfcc_mean,y_test_mfcc_mean = train_test_split(X_mfcc_mean,y_mfcc_mean,test_size=0.25,random_state=66)"
   ]
  },
  {
   "cell_type": "code",
   "execution_count": 7,
   "id": "09ab4796-4482-4efa-9260-2acaee0f1a71",
   "metadata": {},
   "outputs": [
    {
     "name": "stderr",
     "output_type": "stream",
     "text": [
      "/var/folders/0f/htyhfh1n4_sgf576k61d2g_h0000gp/T/ipykernel_9217/1995840788.py:3: FutureWarning: In a future version of pandas all arguments of DataFrame.drop except for the argument 'labels' will be keyword-only.\n",
      "  X_mfcc = np.array(df_mfcc.drop('emotion0',1))\n"
     ]
    }
   ],
   "source": [
    "from sklearn.model_selection import train_test_split\n",
    "\n",
    "X_mfcc = np.array(df_mfcc.drop('emotion0',1))\n",
    "\n",
    "y_mfcc = np.array(df_mfcc['emotion0'])\n",
    "\n",
    "X_train_mfcc,X_test_mfcc,y_train_mfcc,y_test_mfcc = train_test_split(X_mfcc,y_mfcc,test_size=0.25,random_state=66)"
   ]
  },
  {
   "cell_type": "markdown",
   "id": "5531a7eb",
   "metadata": {},
   "source": [
    "### Mean MFCC"
   ]
  },
  {
   "cell_type": "code",
   "execution_count": 8,
   "id": "d73df464-c16c-4391-a2b3-9ccf1b5ecfb0",
   "metadata": {},
   "outputs": [
    {
     "name": "stdout",
     "output_type": "stream",
     "text": [
      "Accuracy: 55.83%\n",
      "f1 mean: 54.47%\n"
     ]
    }
   ],
   "source": [
    "#Import Gaussian Naive Bayes model\n",
    "from sklearn.naive_bayes import GaussianNB\n",
    "\n",
    "#Create a Gaussian Classifier\n",
    "gnb = GaussianNB()\n",
    "\n",
    "#Train the model using the training sets\n",
    "gnb.fit(X_train_mfcc_mean, y_train_mfcc_mean)\n",
    "\n",
    "#Predict the response for test dataset\n",
    "y_pred = gnb.predict(X_test_mfcc_mean)\n",
    "\n",
    "#Import scikit-learn metrics module for accuracy calculation\n",
    "from sklearn import metrics\n",
    "\n",
    "# Model Accuracy, how often is the classifier correct?\n",
    "print(\"Accuracy: {:.2f}%\".format(metrics.accuracy_score(y_test_mfcc_mean, y_pred)*100))\n",
    "\n",
    "from sklearn.metrics import f1_score\n",
    "\n",
    "print(\"f1 mean: {:.2f}%\".format(f1_score(y_test_mfcc_mean, y_pred, average=\"weighted\")*100))"
   ]
  },
  {
   "cell_type": "markdown",
   "id": "60de9afb",
   "metadata": {},
   "source": [
    "### Raw MFCC"
   ]
  },
  {
   "cell_type": "code",
   "execution_count": 9,
   "id": "cc868c51-5ea9-44bc-8e01-d48c8b972118",
   "metadata": {},
   "outputs": [
    {
     "name": "stdout",
     "output_type": "stream",
     "text": [
      "Accuracy: 37.50%\n",
      "f1 raw: 29.47%\n"
     ]
    }
   ],
   "source": [
    "#Import Gaussian Naive Bayes model\n",
    "from sklearn.naive_bayes import GaussianNB\n",
    "\n",
    "#Create a Gaussian Classifier\n",
    "gnb = GaussianNB()\n",
    "\n",
    "#Train the model using the training sets\n",
    "gnb.fit(X_train_mfcc, y_train_mfcc)\n",
    "\n",
    "#Predict the response for test dataset\n",
    "y_pred = gnb.predict(X_test_mfcc)\n",
    "\n",
    "#Import scikit-learn metrics module for accuracy calculation\n",
    "from sklearn import metrics\n",
    "\n",
    "# Model Accuracy, how often is the classifier correct?\n",
    "print(\"Accuracy: {:.2f}%\".format(metrics.accuracy_score(y_test_mfcc, y_pred)*100))\n",
    "\n",
    "from sklearn.metrics import f1_score\n",
    "\n",
    "print(\"f1 raw: {:.2f}%\".format(f1_score(y_test_mfcc, y_pred, average=\"weighted\")*100))"
   ]
  },
  {
   "cell_type": "markdown",
   "id": "e800289f",
   "metadata": {},
   "source": [
    "### Mean Normalised MFCC"
   ]
  },
  {
   "cell_type": "code",
   "execution_count": 10,
   "id": "a003e541-0c02-4be5-b826-1b5de6686cef",
   "metadata": {},
   "outputs": [
    {
     "name": "stdout",
     "output_type": "stream",
     "text": [
      "Accuracy: 53.33%\n",
      "f1 mean norm: 52.29%\n"
     ]
    }
   ],
   "source": [
    "#Import Gaussian Naive Bayes model\n",
    "from sklearn.naive_bayes import GaussianNB\n",
    "from sklearn.preprocessing import normalize\n",
    "#Create a Gaussian Classifier\n",
    "gnb = GaussianNB()\n",
    "\n",
    "X_train_mfcc_mean_norm = normalize(X_train_mfcc_mean, norm='l2')\n",
    "X_test_mfcc_mean_norm = normalize(X_test_mfcc_mean, norm='l2')\n",
    "#Train the model using the training sets\n",
    "gnb.fit(X_train_mfcc_mean_norm, y_train_mfcc_mean)\n",
    "\n",
    "#Predict the response for test dataset\n",
    "y_pred = gnb.predict(X_test_mfcc_mean_norm)\n",
    "\n",
    "#Import scikit-learn metrics module for accuracy calculation\n",
    "from sklearn import metrics\n",
    "\n",
    "# Model Accuracy, how often is the classifier correct?\n",
    "print(\"Accuracy: {:.2f}%\".format(metrics.accuracy_score(y_test_mfcc_mean, y_pred)*100))\n",
    "\n",
    "from sklearn.metrics import f1_score\n",
    "\n",
    "print(\"f1 mean norm: {:.2f}%\".format(f1_score(y_test_mfcc_mean, y_pred, average=\"weighted\")*100))"
   ]
  },
  {
   "cell_type": "markdown",
   "id": "2254b21c",
   "metadata": {},
   "source": [
    "### Raw Normalised MFCC"
   ]
  },
  {
   "cell_type": "code",
   "execution_count": 11,
   "id": "a2d7703f-462d-4e43-8ab4-7a28bd5a9614",
   "metadata": {},
   "outputs": [
    {
     "name": "stdout",
     "output_type": "stream",
     "text": [
      "Accuracy: 37.50%\n",
      "f1 raw norm: 28.56%\n"
     ]
    }
   ],
   "source": [
    "#Import Gaussian Naive Bayes model\n",
    "from sklearn.naive_bayes import GaussianNB\n",
    "\n",
    "#Create a Gaussian Classifier\n",
    "gnb = GaussianNB()\n",
    "\n",
    "X_train_mfcc_norm = normalize(X_train_mfcc, norm='l2')\n",
    "X_test_mfcc_norm = normalize(X_test_mfcc, norm='l2')\n",
    "#Train the model using the training sets\n",
    "gnb.fit(X_train_mfcc_norm, y_train_mfcc)\n",
    "\n",
    "#Predict the response for test dataset\n",
    "y_pred = gnb.predict(X_test_mfcc_norm)\n",
    "\n",
    "#Import scikit-learn metrics module for accuracy calculation\n",
    "from sklearn import metrics\n",
    "\n",
    "# Model Accuracy, how often is the classifier correct?\n",
    "print(\"Accuracy: {:.2f}%\".format(metrics.accuracy_score(y_test_mfcc, y_pred)*100))\n",
    "\n",
    "from sklearn.metrics import f1_score\n",
    "\n",
    "print(\"f1 raw norm: {:.2f}%\".format(f1_score(y_test_mfcc, y_pred, average=\"weighted\")*100))"
   ]
  }
 ],
 "metadata": {
  "kernelspec": {
   "display_name": "Python 3",
   "language": "python",
   "name": "python3"
  },
  "language_info": {
   "codemirror_mode": {
    "name": "ipython",
    "version": 3
   },
   "file_extension": ".py",
   "mimetype": "text/x-python",
   "name": "python",
   "nbconvert_exporter": "python",
   "pygments_lexer": "ipython3",
   "version": "3.8.8"
  }
 },
 "nbformat": 4,
 "nbformat_minor": 5
}
