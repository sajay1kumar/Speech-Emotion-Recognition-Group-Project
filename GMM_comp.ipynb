{
 "cells": [
  {
   "cell_type": "code",
   "execution_count": 43,
   "id": "df62a0f6",
   "metadata": {},
   "outputs": [],
   "source": [
    "#import libraries\n",
    "%matplotlib inline\n",
    "import os\n",
    "import seaborn, sklearn\n",
    "import matplotlib.pyplot as plt, numpy as np, pandas as pd\n",
    "import librosa, librosa.display\n",
    "import IPython.display as ipd\n",
    "from sklearn.model_selection import train_test_split\n",
    "from sklearn.mixture import GaussianMixture\n",
    "from sklearn import metrics\n",
    "from sklearn.metrics import ConfusionMatrixDisplay, f1_score, classification_report, silhouette_score"
   ]
  },
  {
   "cell_type": "markdown",
   "id": "930c9a67",
   "metadata": {},
   "source": [
    "# Means data"
   ]
  },
  {
   "cell_type": "code",
   "execution_count": 44,
   "id": "a86deb9c",
   "metadata": {},
   "outputs": [],
   "source": [
    "meansdf = pd.read_csv(\"df_mfcc_mean.csv\")\n",
    "meansdf = meansdf.drop(columns = ['Unnamed: 0','gender','intensity'])"
   ]
  },
  {
   "cell_type": "code",
   "execution_count": 45,
   "id": "548bb88a",
   "metadata": {},
   "outputs": [],
   "source": [
    "#test train\n",
    "#set data as X, labels as y\n",
    "X = np.array(meansdf.drop(columns='emotion',axis=1))\n",
    "y = np.array(meansdf['emotion'])\n",
    "\n",
    "#divide into test train\n",
    "X_train, X_test, y_train, y_test = train_test_split(X, y, test_size=0.25, random_state=0)"
   ]
  },
  {
   "cell_type": "code",
   "execution_count": 46,
   "id": "df1293ba",
   "metadata": {},
   "outputs": [
    {
     "name": "stdout",
     "output_type": "stream",
     "text": [
      "Fitting 5 folds for each of 8 candidates, totalling 40 fits\n",
      "[CV] END covariance_type=full, init_params=kmeans, n_components=3; total time=   0.0s\n",
      "[CV] END covariance_type=full, init_params=kmeans, n_components=3; total time=   0.0s\n",
      "[CV] END covariance_type=full, init_params=kmeans, n_components=3; total time=   0.0s\n",
      "[CV] END covariance_type=full, init_params=kmeans, n_components=3; total time=   0.0s\n",
      "[CV] END covariance_type=full, init_params=kmeans, n_components=3; total time=   0.0s\n",
      "[CV] END covariance_type=full, init_params=random, n_components=3; total time=   0.0s\n",
      "[CV] END covariance_type=full, init_params=random, n_components=3; total time=   0.0s\n",
      "[CV] END covariance_type=full, init_params=random, n_components=3; total time=   0.0s\n",
      "[CV] END covariance_type=full, init_params=random, n_components=3; total time=   0.0s\n",
      "[CV] END covariance_type=full, init_params=random, n_components=3; total time=   0.0s\n",
      "[CV] END covariance_type=tied, init_params=kmeans, n_components=3; total time=   0.0s\n",
      "[CV] END covariance_type=tied, init_params=kmeans, n_components=3; total time=   0.0s\n",
      "[CV] END covariance_type=tied, init_params=kmeans, n_components=3; total time=   0.0s\n",
      "[CV] END covariance_type=tied, init_params=kmeans, n_components=3; total time=   0.0s\n",
      "[CV] END covariance_type=tied, init_params=kmeans, n_components=3; total time=   0.0s\n",
      "[CV] END covariance_type=tied, init_params=random, n_components=3; total time=   0.0s\n",
      "[CV] END covariance_type=tied, init_params=random, n_components=3; total time=   0.0s\n",
      "[CV] END covariance_type=tied, init_params=random, n_components=3; total time=   0.0s\n",
      "[CV] END covariance_type=tied, init_params=random, n_components=3; total time=   0.0s\n",
      "[CV] END covariance_type=tied, init_params=random, n_components=3; total time=   0.0s\n",
      "[CV] END covariance_type=diag, init_params=kmeans, n_components=3; total time=   0.0s\n",
      "[CV] END covariance_type=diag, init_params=kmeans, n_components=3; total time=   0.0s\n",
      "[CV] END covariance_type=diag, init_params=kmeans, n_components=3; total time=   0.0s\n",
      "[CV] END covariance_type=diag, init_params=kmeans, n_components=3; total time=   0.0s\n",
      "[CV] END covariance_type=diag, init_params=kmeans, n_components=3; total time=   0.0s\n",
      "[CV] END covariance_type=diag, init_params=random, n_components=3; total time=   0.0s\n",
      "[CV] END covariance_type=diag, init_params=random, n_components=3; total time=   0.0s\n",
      "[CV] END covariance_type=diag, init_params=random, n_components=3; total time=   0.0s\n",
      "[CV] END covariance_type=diag, init_params=random, n_components=3; total time=   0.0s\n",
      "[CV] END covariance_type=diag, init_params=random, n_components=3; total time=   0.0s\n",
      "[CV] END covariance_type=spherical, init_params=kmeans, n_components=3; total time=   0.0s\n",
      "[CV] END covariance_type=spherical, init_params=kmeans, n_components=3; total time=   0.0s\n",
      "[CV] END covariance_type=spherical, init_params=kmeans, n_components=3; total time=   0.0s\n",
      "[CV] END covariance_type=spherical, init_params=kmeans, n_components=3; total time=   0.0s\n",
      "[CV] END covariance_type=spherical, init_params=kmeans, n_components=3; total time=   0.0s\n",
      "[CV] END covariance_type=spherical, init_params=random, n_components=3; total time=   0.0s\n",
      "[CV] END covariance_type=spherical, init_params=random, n_components=3; total time=   0.0s\n",
      "[CV] END covariance_type=spherical, init_params=random, n_components=3; total time=   0.0s\n",
      "[CV] END covariance_type=spherical, init_params=random, n_components=3; total time=   0.0s\n",
      "[CV] END covariance_type=spherical, init_params=random, n_components=3; total time=   0.0s\n",
      "GaussianMixture(n_components=3)\n"
     ]
    }
   ],
   "source": [
    "#grid search to tune parameters\n",
    "from sklearn.model_selection import GridSearchCV\n",
    "#set hyperparameters as dictionary\n",
    "\n",
    "param_grid = {'n_components': [3], \n",
    "              'covariance_type': ['full', 'tied', 'diag', 'spherical'],\n",
    "              'init_params': ['kmeans', 'random']} \n",
    "\n",
    "grid = GridSearchCV(GaussianMixture(),param_grid,refit=True,verbose=2)\n",
    "grid.fit(X_train,y_train)\n",
    "best_estimator = grid.best_estimator_\n",
    "print(best_estimator)"
   ]
  },
  {
   "cell_type": "code",
   "execution_count": 49,
   "id": "e8434c61",
   "metadata": {},
   "outputs": [
    {
     "data": {
      "text/plain": [
       "array([2, 2, 0, 2, 1, 2, 2, 0, 2, 2, 2, 2, 2, 2, 0, 2, 2, 1, 1, 2, 2, 2,\n",
       "       2, 2, 0, 2, 1, 2, 2, 2, 2, 2, 0, 0, 2, 2, 2, 2, 2, 2, 2, 2, 1, 2,\n",
       "       1, 2, 2, 2, 2, 2, 2, 0, 2, 2, 0, 2, 2, 0, 2, 2, 2, 1, 2, 2, 1, 2,\n",
       "       2, 1, 2, 2, 2, 2, 2, 1, 2, 2, 2, 2, 2, 0, 2, 2, 2, 2, 2, 2, 2, 2,\n",
       "       2, 2, 1, 0, 0, 1, 2, 2, 2, 1, 2, 2, 0, 2, 0, 2, 2, 2, 2, 1, 1, 2,\n",
       "       2, 2, 2, 2, 1, 1, 2, 2, 0, 2], dtype=int64)"
      ]
     },
     "execution_count": 49,
     "metadata": {},
     "output_type": "execute_result"
    }
   ],
   "source": [
    "#create classifier\n",
    "clf = GaussianMixture(n_components=3)\n",
    "clf.fit(X_train)\n",
    "y_pred = clf.predict(X_test)\n",
    "y_pred"
   ]
  },
  {
   "cell_type": "code",
   "execution_count": 50,
   "id": "09493caf",
   "metadata": {},
   "outputs": [],
   "source": [
    "#re-label clusters to match data\n",
    "y_pred = y_pred.tolist()\n",
    "y_pred = [1 if x == 0 else 3 if x == 1 else 4 if x == 2 else x for x in y_pred]\n",
    "y_pred=np.array(y_pred)"
   ]
  },
  {
   "cell_type": "code",
   "execution_count": 51,
   "id": "e68de447",
   "metadata": {},
   "outputs": [
    {
     "data": {
      "image/png": "[encoded data removed]",
      "text/plain": [
       "<Figure size 432x288 with 2 Axes>"
      ]
     },
     "metadata": {
      "needs_background": "light"
     },
     "output_type": "display_data"
    }
   ],
   "source": [
    "ConfusionMatrixDisplay.from_predictions(y_pred, y_test, cmap=plt.cm.Blues)\n",
    "f1 = round(f1_score(y_test,y_pred,average='weighted'),4)\n",
    "plt.title(f'{best_estimator} \\n Balanced F1 score: {f1}');"
   ]
  },
  {
   "cell_type": "markdown",
   "id": "596af257",
   "metadata": {},
   "source": [
    "# Raw data"
   ]
  },
  {
   "cell_type": "code",
   "execution_count": 52,
   "id": "7131b3ff",
   "metadata": {},
   "outputs": [],
   "source": [
    "#import mfcc dataset\n",
    "rawdf = pd.read_csv(\"mfcc_data.csv\")"
   ]
  },
  {
   "cell_type": "code",
   "execution_count": 53,
   "id": "4324b983",
   "metadata": {},
   "outputs": [],
   "source": [
    "#test train\n",
    "#set data as X, labels as y\n",
    "X = np.array(rawdf.drop(columns='label',axis=1))\n",
    "y = np.array(rawdf['label'])\n",
    "\n",
    "#divide into test train\n",
    "X_train, X_test, y_train, y_test = train_test_split(X, y, test_size=0.25, random_state=0)"
   ]
  },
  {
   "cell_type": "code",
   "execution_count": 54,
   "id": "89e803d8",
   "metadata": {},
   "outputs": [
    {
     "name": "stdout",
     "output_type": "stream",
     "text": [
      "Fitting 5 folds for each of 8 candidates, totalling 40 fits\n",
      "[CV] END covariance_type=full, init_params=kmeans, n_components=3; total time=   8.6s\n",
      "[CV] END covariance_type=full, init_params=kmeans, n_components=3; total time=   8.6s\n",
      "[CV] END covariance_type=full, init_params=kmeans, n_components=3; total time=   8.6s\n",
      "[CV] END covariance_type=full, init_params=kmeans, n_components=3; total time=   8.7s\n",
      "[CV] END covariance_type=full, init_params=kmeans, n_components=3; total time=   8.7s\n",
      "[CV] END covariance_type=full, init_params=random, n_components=3; total time=  13.8s\n",
      "[CV] END covariance_type=full, init_params=random, n_components=3; total time=  14.7s\n",
      "[CV] END covariance_type=full, init_params=random, n_components=3; total time=  16.5s\n",
      "[CV] END covariance_type=full, init_params=random, n_components=3; total time=  13.8s\n",
      "[CV] END covariance_type=full, init_params=random, n_components=3; total time=  13.4s\n",
      "[CV] END covariance_type=tied, init_params=kmeans, n_components=3; total time=   3.5s\n",
      "[CV] END covariance_type=tied, init_params=kmeans, n_components=3; total time=   3.2s\n",
      "[CV] END covariance_type=tied, init_params=kmeans, n_components=3; total time=   3.1s\n",
      "[CV] END covariance_type=tied, init_params=kmeans, n_components=3; total time=   3.4s\n",
      "[CV] END covariance_type=tied, init_params=kmeans, n_components=3; total time=   3.1s\n",
      "[CV] END covariance_type=tied, init_params=random, n_components=3; total time=  10.6s\n",
      "[CV] END covariance_type=tied, init_params=random, n_components=3; total time=  10.8s\n",
      "[CV] END covariance_type=tied, init_params=random, n_components=3; total time=  11.1s\n",
      "[CV] END covariance_type=tied, init_params=random, n_components=3; total time=  10.5s\n",
      "[CV] END covariance_type=tied, init_params=random, n_components=3; total time=  10.6s\n",
      "[CV] END covariance_type=diag, init_params=kmeans, n_components=3; total time=   0.0s\n",
      "[CV] END covariance_type=diag, init_params=kmeans, n_components=3; total time=   0.0s\n",
      "[CV] END covariance_type=diag, init_params=kmeans, n_components=3; total time=   0.0s\n",
      "[CV] END covariance_type=diag, init_params=kmeans, n_components=3; total time=   0.0s\n",
      "[CV] END covariance_type=diag, init_params=kmeans, n_components=3; total time=   0.0s\n",
      "[CV] END covariance_type=diag, init_params=random, n_components=3; total time=   0.0s\n",
      "[CV] END covariance_type=diag, init_params=random, n_components=3; total time=   0.0s\n",
      "[CV] END covariance_type=diag, init_params=random, n_components=3; total time=   0.0s\n",
      "[CV] END covariance_type=diag, init_params=random, n_components=3; total time=   0.0s\n",
      "[CV] END covariance_type=diag, init_params=random, n_components=3; total time=   0.0s\n",
      "[CV] END covariance_type=spherical, init_params=kmeans, n_components=3; total time=   0.0s\n",
      "[CV] END covariance_type=spherical, init_params=kmeans, n_components=3; total time=   0.0s\n",
      "[CV] END covariance_type=spherical, init_params=kmeans, n_components=3; total time=   0.0s\n",
      "[CV] END covariance_type=spherical, init_params=kmeans, n_components=3; total time=   0.0s\n",
      "[CV] END covariance_type=spherical, init_params=kmeans, n_components=3; total time=   0.0s\n",
      "[CV] END covariance_type=spherical, init_params=random, n_components=3; total time=   0.0s\n",
      "[CV] END covariance_type=spherical, init_params=random, n_components=3; total time=   0.0s\n",
      "[CV] END covariance_type=spherical, init_params=random, n_components=3; total time=   0.0s\n",
      "[CV] END covariance_type=spherical, init_params=random, n_components=3; total time=   0.0s\n",
      "[CV] END covariance_type=spherical, init_params=random, n_components=3; total time=   0.0s\n",
      "GaussianMixture(covariance_type='spherical', n_components=3)\n"
     ]
    }
   ],
   "source": [
    "#grid search to tune parameters\n",
    "from sklearn.model_selection import GridSearchCV\n",
    "#set hyperparameters as dictionary\n",
    "\n",
    "param_grid = {'n_components': [3], \n",
    "              'covariance_type': ['full', 'tied', 'diag', 'spherical'],\n",
    "              'init_params': ['kmeans', 'random']} \n",
    "\n",
    "grid = GridSearchCV(GaussianMixture(),param_grid,refit=True,verbose=2)\n",
    "grid.fit(X_train,y_train)\n",
    "best_estimator = grid.best_estimator_\n",
    "print(best_estimator)"
   ]
  },
  {
   "cell_type": "code",
   "execution_count": 58,
   "id": "96d1265e",
   "metadata": {},
   "outputs": [
    {
     "data": {
      "text/plain": [
       "array([1, 1, 0, 0, 2, 0, 2, 2, 0, 0, 1, 2, 0, 0, 1, 0, 1, 1, 2, 0, 2, 1,\n",
       "       1, 0, 2, 0, 1, 2, 0, 2, 0, 2, 2, 2, 1, 2, 0, 1, 2, 1, 2, 2, 2, 0,\n",
       "       0, 1, 2, 1, 2, 2, 0, 1, 2, 0, 2, 0, 2, 2, 0, 2, 0, 2, 2, 0, 1, 0,\n",
       "       2, 0, 0, 2, 1, 0, 2, 2, 1, 1, 2, 2, 1, 1, 1, 2, 2, 0, 0, 2, 2, 1,\n",
       "       0, 1, 0, 2, 2, 1, 0, 2, 1, 0, 0, 1, 0, 0, 2, 0, 0, 1, 0, 2, 0, 1,\n",
       "       0, 2, 0, 1, 0, 0, 0, 0, 0, 1], dtype=int64)"
      ]
     },
     "execution_count": 58,
     "metadata": {},
     "output_type": "execute_result"
    }
   ],
   "source": [
    "#create classifier\n",
    "clf = GaussianMixture(n_components=3,covariance_type='spherical')\n",
    "clf.fit(X_train)\n",
    "y_pred = clf.predict(X_test)\n",
    "y_pred"
   ]
  },
  {
   "cell_type": "code",
   "execution_count": 59,
   "id": "27bafbba",
   "metadata": {},
   "outputs": [],
   "source": [
    "#re-label clusters to match data\n",
    "y_pred = y_pred.tolist()\n",
    "y_pred = [1 if x == 0 else 3 if x == 1 else 4 if x == 2 else x for x in y_pred]\n",
    "y_pred=np.array(y_pred)"
   ]
  },
  {
   "cell_type": "code",
   "execution_count": 60,
   "id": "349898d1",
   "metadata": {},
   "outputs": [
    {
     "data": {
      "image/png": "[encoded data removed]",
      "text/plain": [
       "<Figure size 432x288 with 2 Axes>"
      ]
     },
     "metadata": {
      "needs_background": "light"
     },
     "output_type": "display_data"
    }
   ],
   "source": [
    "ConfusionMatrixDisplay.from_predictions(y_pred, y_test, cmap=plt.cm.Blues)\n",
    "f1 = round(f1_score(y_test,y_pred,average='weighted'),4)\n",
    "plt.title(f'{best_estimator} \\n Balanced F1 score: {f1}');"
   ]
  },
  {
   "cell_type": "code",
   "execution_count": null,
   "id": "cfa89de6",
   "metadata": {},
   "outputs": [],
   "source": [
    "print(f'rand score: {metrics.rand_score(y_test, y_pred)}')\n",
    "print(f'homogeneity score: {metrics.homogeneity_score(y_test, y_pred)}')\n",
    "print(f'completeneness score: {metrics.completeness_score(y_test,y_pred)}')\n",
    "print(f'v-measure: {metrics.completeness_score(y_test,y_pred)}')\n",
    "print(f'fawlkes_mallows score: {metrics.fowlkes_mallows_score(y_test,y_pred)}')\n",
    "metrics.adjusted_mutual_info_score(y_test, y_pred)"
   ]
  }
 ],
 "metadata": {
  "kernelspec": {
   "display_name": "Python 3 (ipykernel)",
   "language": "python",
   "name": "python3"
  },
  "language_info": {
   "codemirror_mode": {
    "name": "ipython",
    "version": 3
   },
   "file_extension": ".py",
   "mimetype": "text/x-python",
   "name": "python",
   "nbconvert_exporter": "python",
   "pygments_lexer": "ipython3",
   "version": "3.9.7"
  }
 },
 "nbformat": 4,
 "nbformat_minor": 5
}
